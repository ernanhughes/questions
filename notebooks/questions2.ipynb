{
 "cells": [
  {
   "cell_type": "markdown",
   "id": "8048495c",
   "metadata": {},
   "source": [
    "+++\n",
    "date = '2025-01-20T20:25:03Z'\n",
    "draft = true\n",
    "title = 'More Machine Learning Questions and Answers with Python examples'\n",
    "categories = ['AI', 'Questions']\n",
    "tag = ['questions'] \n",
    "\n",
    "+++"
   ]
  },
  {
   "cell_type": "markdown",
   "id": "dab4abf7",
   "metadata": {},
   "source": [
    "### **44. What does it mean to Fit a Model?**\n",
    "\n",
    "**Answer**  \n",
    "**Fitting a model** refers to the process of adjusting the model's internal parameters to best match the given training data. It's like tailoring a suit – you adjust the fabric and stitching to make it fit the wearer perfectly.\n",
    "\n",
    "**Key Terms:**\n",
    "\n",
    "1. **Model:** A mathematical representation that captures patterns in data. Examples include linear regression, decision trees, neural networks, etc.\n",
    "\n",
    "2. **Parameters:** These are the internal variables within the model that determine its behavior. For instance:\n",
    "   - In linear regression: slope and intercept\n",
    "   - In a neural network: weights and biases\n",
    "\n",
    "3. **Training Data:** The data used to \"teach\" the model. It consists of input features and corresponding target values.\n",
    "\n",
    "4. **Fitting Process:** The algorithm iteratively adjusts the model's parameters to minimize the difference between the model's predictions and the actual target values in the training data. This is often achieved by optimizing a loss function (e.g., mean squared error, cross-entropy)."
   ]
  },
  {
   "cell_type": "code",
   "execution_count": 10,
   "id": "a35cfd28",
   "metadata": {},
   "outputs": [
    {
     "name": "stdout",
     "output_type": "stream",
     "text": [
      "Slope: [47.13323967]\n",
      "Intercept: 2.3302306410539453\n"
     ]
    }
   ],
   "source": [
    "from sklearn.linear_model import LinearRegression\n",
    "from sklearn.datasets import make_regression\n",
    "\n",
    "# Generate sample data\n",
    "X, y = make_regression(n_samples=100, n_features=1, noise=20, random_state=42)\n",
    "\n",
    "# Create a Linear Regression model\n",
    "model = LinearRegression()\n",
    "\n",
    "# Fit the model to the data\n",
    "model.fit(X, y)\n",
    "\n",
    "# Now the model has learned the best-fit line (slope and intercept)\n",
    "print(\"Slope:\", model.coef_)\n",
    "print(\"Intercept:\", model.intercept_)"
   ]
  },
  {
   "cell_type": "markdown",
   "id": "ced0bb81",
   "metadata": {},
   "source": [
    "```\n",
    "Slope: [47.13323967]\n",
    "Intercept: 2.3302306410539453\n",
    "```"
   ]
  },
  {
   "cell_type": "markdown",
   "id": "edb1e2a3",
   "metadata": {
    "lines_to_next_cell": 0
   },
   "source": [
    "In this example:\n",
    "\n",
    "- `make_regression` generates synthetic data for a simple linear relationship.\n",
    "- `LinearRegression()` creates an instance of the linear regression model.\n",
    "- `model.fit(X, y)` is the core of the fitting process. The model learns the optimal values for its parameters (slope and intercept) by analyzing the relationship between the input features (X) and the target values (y) in the training data.\n",
    "\n",
    "**Key Concepts:**\n",
    "\n",
    "- **Loss Function:** Measures the discrepancy between the model's predictions and the actual values.\n",
    "- **Optimization Algorithms:** Methods used to minimize the loss function (e.g., gradient descent).\n",
    "- **Overfitting:** When the model performs well on the training data but poorly on new, unseen data.\n",
    "- **Underfitting:** When the model is too simple to capture the underlying patterns in the data.\n",
    "\n",
    "By fitting a model to the training data, we aim to create a model that can accurately predict outcomes for new, unseen data.\n",
    "\n",
    "---\n",
    "\n",
    "### **45. Can you give some reasons why Gradient Descent may converge slowly or fail to converge.**\n",
    "\n",
    "1. **Learning Rate Issues**\n",
    "   - **Too Small**: Slow convergence.\n",
    "   - **Too Large**: Divergence.\n",
    "\n",
    "#### Example"
   ]
  },
  {
   "cell_type": "code",
   "execution_count": 11,
   "id": "9f4d377b",
   "metadata": {
    "lines_to_next_cell": 2
   },
   "outputs": [
    {
     "name": "stdout",
     "output_type": "stream",
     "text": [
      "Iteration 0, x = 9.979999542236328, Cost = 100.0\n",
      "Iteration 1, x = 9.960039138793945, Cost = 99.60038757324219\n",
      "Iteration 2, x = 9.940118789672852, Cost = 99.20237731933594\n",
      "Iteration 3, x = 9.920238494873047, Cost = 98.80596160888672\n",
      "Iteration 4, x = 9.900398254394531, Cost = 98.4111328125\n",
      "Iteration 5, x = 9.880597114562988, Cost = 98.01788330078125\n",
      "Iteration 6, x = 9.860836029052734, Cost = 97.6261978149414\n",
      "Iteration 7, x = 9.841114044189453, Cost = 97.236083984375\n",
      "Iteration 8, x = 9.821432113647461, Cost = 96.84752655029297\n",
      "Iteration 9, x = 9.801789283752441, Cost = 96.46052551269531\n",
      "Iteration 0, x = -12.0, Cost = 100.0\n",
      "Iteration 1, x = 14.400001525878906, Cost = 144.0\n",
      "Iteration 2, x = -17.28000259399414, Cost = 207.36004638671875\n",
      "Iteration 3, x = 20.736003875732422, Cost = 298.5984802246094\n",
      "Iteration 4, x = -24.88320541381836, Cost = 429.9818420410156\n",
      "Iteration 5, x = 29.859848022460938, Cost = 619.1738891601562\n",
      "Iteration 6, x = -35.831817626953125, Cost = 891.6105346679688\n",
      "Iteration 7, x = 42.99818420410156, Cost = 1283.919189453125\n",
      "Iteration 8, x = -51.59782409667969, Cost = 1848.8438720703125\n",
      "Iteration 9, x = 61.917388916015625, Cost = 2662.33544921875\n"
     ]
    },
    {
     "data": {
      "text/plain": [
       "61.917388916015625"
      ]
     },
     "execution_count": 11,
     "metadata": {},
     "output_type": "execute_result"
    }
   ],
   "source": [
    "import torch\n",
    "\n",
    "# Quadratic function y = x^2\n",
    "def cost_function(x):\n",
    "    return x**2\n",
    "\n",
    "# Gradient of the function y' = 2x\n",
    "def gradient(x):\n",
    "    return 2 * x\n",
    "\n",
    "# Gradient Descent with PyTorch\n",
    "def gradient_descent(start_x, learning_rate, num_iterations):\n",
    "    x = torch.tensor([start_x], requires_grad=True)\n",
    "    for i in range(num_iterations):\n",
    "        loss = cost_function(x)\n",
    "        loss.backward()\n",
    "        with torch.no_grad():\n",
    "            x -= learning_rate * x.grad\n",
    "            x.grad.zero_()\n",
    "        print(f\"Iteration {i}, x = {x.item()}, Cost = {loss.item()}\")\n",
    "    return x.item()\n",
    "\n",
    "# Too small learning rate\n",
    "gradient_descent(start_x=10.0, learning_rate=0.001, num_iterations=10)\n",
    "\n",
    "# Too large learning rate\n",
    "gradient_descent(start_x=10.0, learning_rate=1.1, num_iterations=10)"
   ]
  },
  {
   "cell_type": "markdown",
   "id": "9e45061f",
   "metadata": {},
   "source": [
    "2. **Poor Initialization**\n",
    "   - Initializing too far from the optimal value can cause slow convergence."
   ]
  },
  {
   "cell_type": "code",
   "execution_count": 12,
   "id": "96e28133",
   "metadata": {
    "lines_to_next_cell": 2
   },
   "outputs": [
    {
     "name": "stdout",
     "output_type": "stream",
     "text": [
      "Iteration 0, x = 980000.0, Cost = 999999995904.0\n",
      "Iteration 1, x = 960400.0, Cost = 960399998976.0\n",
      "Iteration 2, x = 941192.0, Cost = 922368147456.0\n",
      "Iteration 3, x = 922368.1875, Cost = 885842378752.0\n",
      "Iteration 4, x = 903920.8125, Cost = 850763055104.0\n",
      "Iteration 5, x = 885842.375, Cost = 817072832512.0\n",
      "Iteration 6, x = 868125.5, Cost = 784716726272.0\n",
      "Iteration 7, x = 850763.0, Cost = 753641914368.0\n",
      "Iteration 8, x = 833747.75, Cost = 723797671936.0\n",
      "Iteration 9, x = 817072.8125, Cost = 695135305728.0\n"
     ]
    },
    {
     "data": {
      "text/plain": [
       "817072.8125"
      ]
     },
     "execution_count": 12,
     "metadata": {},
     "output_type": "execute_result"
    }
   ],
   "source": [
    "# Start too far from the minimum\n",
    "gradient_descent(start_x=1e6, learning_rate=0.01, num_iterations=10)"
   ]
  },
  {
   "cell_type": "markdown",
   "id": "db4453e1",
   "metadata": {},
   "source": [
    "3. **Vanishing or Exploding Gradients**\n",
    "   - **Vanishing Gradients**: Common with sigmoid/tanh activations in deep networks.\n",
    "   - **Exploding Gradients**: Can be mitigated with gradient clipping."
   ]
  },
  {
   "cell_type": "code",
   "execution_count": 13,
   "id": "c6070bfc",
   "metadata": {
    "lines_to_next_cell": 2
   },
   "outputs": [
    {
     "name": "stdout",
     "output_type": "stream",
     "text": [
      "Epoch 0, Loss: 1.0978631973266602\n",
      "Epoch 1, Loss: 0.9406214952468872\n",
      "Epoch 2, Loss: 0.9181451797485352\n",
      "Epoch 3, Loss: 0.9114464521408081\n",
      "Epoch 4, Loss: 0.9066203236579895\n",
      "Epoch 5, Loss: 0.9020411968231201\n",
      "Epoch 6, Loss: 0.8975175023078918\n",
      "Epoch 7, Loss: 0.8930259943008423\n",
      "Epoch 8, Loss: 0.888562798500061\n",
      "Epoch 9, Loss: 0.8841264247894287\n"
     ]
    }
   ],
   "source": [
    "import torch.nn as nn\n",
    "\n",
    "# Neural network with vanishing gradients\n",
    "class VanishingGradientNN(nn.Module):\n",
    "    def __init__(self):\n",
    "        super(VanishingGradientNN, self).__init__()\n",
    "        self.layers = nn.Sequential(\n",
    "            nn.Linear(100, 128),\n",
    "            nn.Sigmoid(),\n",
    "            nn.Linear(128, 1)\n",
    "        )\n",
    "\n",
    "    def forward(self, x):\n",
    "        return self.layers(x)\n",
    "\n",
    "model = VanishingGradientNN()\n",
    "optimizer = torch.optim.SGD(model.parameters(), lr=0.01)\n",
    "loss_fn = nn.MSELoss()\n",
    "\n",
    "# Simulated training loop\n",
    "x = torch.randn(32, 100)\n",
    "y = torch.randn(32, 1)\n",
    "for epoch in range(10):\n",
    "    optimizer.zero_grad()\n",
    "    output = model(x)\n",
    "    loss = loss_fn(output, y)\n",
    "    loss.backward()\n",
    "    optimizer.step()\n",
    "    print(f\"Epoch {epoch}, Loss: {loss.item()}\")"
   ]
  },
  {
   "cell_type": "markdown",
   "id": "e883228c",
   "metadata": {},
   "source": [
    "4. **Poorly Conditioned Data**\n",
    "   - Features with very different scales can lead to slow or uneven updates."
   ]
  },
  {
   "cell_type": "code",
   "execution_count": 14,
   "id": "5de2093d",
   "metadata": {
    "lines_to_next_cell": 2
   },
   "outputs": [],
   "source": [
    "from sklearn.preprocessing import StandardScaler\n",
    "\n",
    "# Unscaled data\n",
    "X = torch.tensor([[1.0, 100.0], [2.0, 200.0], [3.0, 300.0]])\n",
    "scaler = StandardScaler()\n",
    "\n",
    "# Scale data\n",
    "X_scaled = torch.tensor(scaler.fit_transform(X))"
   ]
  },
  {
   "cell_type": "markdown",
   "id": "1ca19144",
   "metadata": {},
   "source": [
    "5. **Non-convex Loss Surface**\n",
    "   - Non-convex loss functions can cause the algorithm to get stuck in local minima."
   ]
  },
  {
   "cell_type": "code",
   "execution_count": 15,
   "id": "796954e7",
   "metadata": {
    "lines_to_next_cell": 2
   },
   "outputs": [
    {
     "data": {
      "image/png": "[encoded data removed]",
      "text/plain": [
       "<Figure size 640x480 with 1 Axes>"
      ]
     },
     "metadata": {},
     "output_type": "display_data"
    }
   ],
   "source": [
    "import matplotlib.pyplot as plt\n",
    "\n",
    "x = torch.linspace(-2, 2, 100)\n",
    "y = x**4 - x**2 + 0.5\n",
    "\n",
    "plt.plot(x.numpy(), y.numpy())\n",
    "plt.title(\"Non-convex Loss Function\")\n",
    "plt.show()"
   ]
  },
  {
   "cell_type": "markdown",
   "id": "fcd7a58c",
   "metadata": {},
   "source": [
    "6. **Suboptimal Batch Size**\n",
    "   - Small batches lead to noisy gradients; large batches can slow updates."
   ]
  },
  {
   "cell_type": "code",
   "execution_count": 16,
   "id": "281213f2",
   "metadata": {
    "lines_to_next_cell": 2
   },
   "outputs": [],
   "source": [
    "from torch.utils.data import DataLoader, TensorDataset\n",
    "\n",
    "# Simulated data\n",
    "X = torch.randn(1000, 10)\n",
    "y = torch.randn(1000, 1)\n",
    "\n",
    "# DataLoaders with different batch sizes\n",
    "dataset = TensorDataset(X, y)\n",
    "small_batch_loader = DataLoader(dataset, batch_size=1)\n",
    "large_batch_loader = DataLoader(dataset, batch_size=128)\n",
    "\n",
    "# Using a small batch\n",
    "for batch in small_batch_loader:\n",
    "    x_batch, y_batch = batch\n",
    "    # Simulate gradient update (small noisy steps)\n",
    "    break\n",
    "\n",
    "# Using a large batch\n",
    "for batch in large_batch_loader:\n",
    "    x_batch, y_batch = batch\n",
    "    # Simulate gradient update (slow but stable steps)\n",
    "    break"
   ]
  },
  {
   "cell_type": "markdown",
   "id": "bdf73e57",
   "metadata": {},
   "source": [
    "7. **Suboptimal Optimization Algorithm**\n",
    "   - Advanced optimizers like Adam or RMSprop can accelerate convergence."
   ]
  },
  {
   "cell_type": "code",
   "execution_count": 17,
   "id": "99291a61",
   "metadata": {
    "lines_to_next_cell": 2
   },
   "outputs": [
    {
     "name": "stdout",
     "output_type": "stream",
     "text": [
      "Epoch 0, Loss: 1.329546332359314\n",
      "Epoch 1, Loss: 1.292575716972351\n",
      "Epoch 2, Loss: 1.258034586906433\n",
      "Epoch 3, Loss: 1.2259360551834106\n",
      "Epoch 4, Loss: 1.1962436437606812\n",
      "Epoch 5, Loss: 1.1688528060913086\n",
      "Epoch 6, Loss: 1.1435997486114502\n",
      "Epoch 7, Loss: 1.120311975479126\n",
      "Epoch 8, Loss: 1.09884774684906\n",
      "Epoch 9, Loss: 1.079092264175415\n"
     ]
    }
   ],
   "source": [
    "model = nn.Linear(10, 1)\n",
    "optimizer = torch.optim.Adam(model.parameters(), lr=0.01)\n",
    "loss_fn = nn.MSELoss()\n",
    "\n",
    "# Training loop with Adam optimizer\n",
    "for epoch in range(10):\n",
    "    optimizer.zero_grad()\n",
    "    output = model(X)\n",
    "    loss = loss_fn(output, y)\n",
    "    loss.backward()\n",
    "    optimizer.step()\n",
    "    print(f\"Epoch {epoch}, Loss: {loss.item()}\")"
   ]
  },
  {
   "cell_type": "markdown",
   "id": "db26c0d3",
   "metadata": {},
   "source": [
    "8. **Plateauing**\n",
    "   - Flat regions in the loss surface can cause stagnation. Momentum or adaptive learning rates help."
   ]
  },
  {
   "cell_type": "code",
   "execution_count": 18,
   "id": "775ed672",
   "metadata": {},
   "outputs": [],
   "source": [
    "optimizer = torch.optim.SGD(model.parameters(), lr=0.01, momentum=0.9)"
   ]
  },
  {
   "cell_type": "markdown",
   "id": "999996ef",
   "metadata": {},
   "source": [
    "---\n",
    "\n",
    "### **46. What are type 1 and Type 2 errors**"
   ]
  },
  {
   "cell_type": "markdown",
   "id": "c14bcb74",
   "metadata": {},
   "source": [
    "#### **Type 1 Error (False Positive)**:\n",
    "This occurs when the null hypothesis (\\(H_0\\)) is true, but we incorrectly reject it. \n",
    "\n",
    "- **Example**: A test falsely identifies someone as having a disease when they don't.\n",
    "\n",
    "---\n",
    "\n",
    "#### **Type 2 Error (False Negative)**:\n",
    "This occurs when the null hypothesis (\\(H_0\\)) is false, but we fail to reject it.\n",
    "\n",
    "- **Example**: A test fails to identify someone as having a disease when they do.\n",
    "\n",
    "---\n",
    "\n",
    "**Python Code Example**\n",
    "Let's simulate a binary classification scenario to illustrate these errors:"
   ]
  },
  {
   "cell_type": "code",
   "execution_count": 19,
   "id": "fa751906",
   "metadata": {},
   "outputs": [
    {
     "name": "stdout",
     "output_type": "stream",
     "text": [
      "Confusion Matrix:\n",
      "True Negative (TN): 75, False Positive (FP - Type 1 Error): 16\n",
      "False Negative (FN - Type 2 Error): 7, True Positive (TP): 2\n",
      "\n",
      "Classification Report:\n",
      "              precision    recall  f1-score   support\n",
      "\n",
      "           0       0.91      0.82      0.87        91\n",
      "           1       0.11      0.22      0.15         9\n",
      "\n",
      "    accuracy                           0.77       100\n",
      "   macro avg       0.51      0.52      0.51       100\n",
      "weighted avg       0.84      0.77      0.80       100\n",
      "\n"
     ]
    }
   ],
   "source": [
    "import numpy as np\n",
    "from sklearn.metrics import confusion_matrix, classification_report\n",
    "\n",
    "# Simulated data\n",
    "np.random.seed(42)\n",
    "y_true = np.random.choice([0, 1], size=100, p=[0.9, 0.1])  # Actual labels (90% healthy, 10% diseased)\n",
    "y_pred = np.random.choice([0, 1], size=100, p=[0.85, 0.15])  # Predicted labels (85% healthy, 15% diseased)\n",
    "\n",
    "# Confusion Matrix\n",
    "tn, fp, fn, tp = confusion_matrix(y_true, y_pred).ravel()\n",
    "\n",
    "print(\"Confusion Matrix:\")\n",
    "print(f\"True Negative (TN): {tn}, False Positive (FP - Type 1 Error): {fp}\")\n",
    "print(f\"False Negative (FN - Type 2 Error): {fn}, True Positive (TP): {tp}\")\n",
    "\n",
    "# Detailed Report\n",
    "print(\"\\nClassification Report:\")\n",
    "print(classification_report(y_true, y_pred))"
   ]
  },
  {
   "cell_type": "markdown",
   "id": "8bb4f377",
   "metadata": {},
   "source": [
    "---\n",
    "\n",
    "**Output Explanation**\n",
    "1. **Confusion Matrix**:\n",
    "   - **True Negative (TN)**: Correctly identified as not having the disease.\n",
    "   - **False Positive (FP)**: Type 1 error - incorrectly identified as having the disease.\n",
    "   - **False Negative (FN)**: Type 2 error - incorrectly identified as not having the disease.\n",
    "   - **True Positive (TP)**: Correctly identified as having the disease.\n",
    "\n",
    "2. **Classification Report**:\n",
    "   - Includes metrics like precision, recall, and F1-score to summarize the classification performance.\n",
    "\n",
    "---\n",
    "\n",
    "#### Sample Output (Varies Due to Randomness)\n",
    "```\n",
    "Confusion Matrix:\n",
    "True Negative (TN): 77, False Positive (FP - Type 1 Error): 13\n",
    "False Negative (FN - Type 2 Error): 7, True Positive (TP): 3\n",
    "\n",
    "Classification Report:\n",
    "              precision    recall  f1-score   support\n",
    "           0       0.92      0.86      0.89        90\n",
    "           1       0.19      0.30      0.23        10\n",
    "    accuracy                           0.81       100\n",
    "   macro avg       0.55      0.58      0.56       100\n",
    "weighted avg       0.85      0.81      0.83       100\n",
    "```\n",
    "\n",
    "This example highlights the occurrence of Type 1 and Type 2 errors in a binary classification problem and how they are represented in the confusion matrix.\n",
    "\n",
    "### **47. In SVM What is the Kernel?**\n",
    "\n",
    "**Answer**\n",
    "In Support Vector Machines (SVM), a kernel is a function that computes the similarity (or a dot product) between data points in a higher-dimensional space, even though the transformation to this space is implicit. Kernels allow SVMs to efficiently find decision boundaries for complex, non-linear datasets by operating in this high-dimensional feature space without explicitly computing the transformation.\n",
    "\n",
    "---\n",
    "\n",
    "**What is the Kernel Trick?**\n",
    "The **Kernel Trick** is a mathematical technique that avoids the explicit computation of data transformations into higher dimensions. Instead of transforming the data, the kernel function directly computes the dot product of the data points in the higher-dimensional space. This greatly reduces computational complexity while allowing SVM to solve non-linear problems efficiently.\n",
    "\n",
    "---\n",
    "\n",
    "**Common Kernel Functions**\n",
    "1. **Linear Kernel**: \\( K(x, y) = x \\cdot y \\)\n",
    "2. **Polynomial Kernel**: \\( K(x, y) = (\\gamma x \\cdot y + r)^d \\)\n",
    "3. **Radial Basis Function (RBF) Kernel**: \\( K(x, y) = \\exp(-\\gamma ||x - y||^2) \\)\n",
    "4. **Sigmoid Kernel**: \\( K(x, y) = \\tanh(\\gamma x \\cdot y + r) \\)\n",
    "\n",
    "---\n",
    "\n",
    "**SVM with Kernel Trick**"
   ]
  },
  {
   "cell_type": "code",
   "execution_count": 20,
   "id": "6e04e1f3",
   "metadata": {},
   "outputs": [
    {
     "data": {
      "image/png": "[encoded data removed]",
      "text/plain": [
       "<Figure size 640x480 with 1 Axes>"
      ]
     },
     "metadata": {},
     "output_type": "display_data"
    },
    {
     "data": {
      "image/png": "[encoded data removed]",
      "text/plain": [
       "<Figure size 640x480 with 1 Axes>"
      ]
     },
     "metadata": {},
     "output_type": "display_data"
    }
   ],
   "source": [
    "import numpy as np\n",
    "import matplotlib.pyplot as plt\n",
    "from sklearn.datasets import make_circles\n",
    "from sklearn.svm import SVC\n",
    "\n",
    "# Generate non-linear data (concentric circles)\n",
    "X, y = make_circles(n_samples=300, noise=0.1, factor=0.5, random_state=42)\n",
    "\n",
    "# Visualize the data\n",
    "plt.scatter(X[y == 0][:, 0], X[y == 0][:, 1], color='red', label='Class 0')\n",
    "plt.scatter(X[y == 1][:, 0], X[y == 1][:, 1], color='blue', label='Class 1')\n",
    "plt.legend()\n",
    "plt.title(\"Non-linear Data\")\n",
    "plt.show()\n",
    "\n",
    "# SVM with RBF Kernel\n",
    "svm_rbf = SVC(kernel='rbf', C=1, gamma=0.5)\n",
    "svm_rbf.fit(X, y)\n",
    "\n",
    "# Decision Boundary Visualization\n",
    "xx, yy = np.meshgrid(np.linspace(X[:, 0].min(), X[:, 0].max(), 100),\n",
    "                     np.linspace(X[:, 1].min(), X[:, 1].max(), 100))\n",
    "Z = svm_rbf.decision_function(np.c_[xx.ravel(), yy.ravel()])\n",
    "Z = Z.reshape(xx.shape)\n",
    "\n",
    "plt.contourf(xx, yy, Z, levels=20, cmap=\"coolwarm\", alpha=0.8)\n",
    "plt.scatter(X[y == 0][:, 0], X[y == 0][:, 1], color='red', label='Class 0')\n",
    "plt.scatter(X[y == 1][:, 0], X[y == 1][:, 1], color='blue', label='Class 1')\n",
    "plt.legend()\n",
    "plt.title(\"SVM with RBF Kernel Decision Boundary\")\n",
    "plt.show()"
   ]
  },
  {
   "cell_type": "markdown",
   "id": "e27479c0",
   "metadata": {
    "lines_to_next_cell": 0
   },
   "source": [
    "---\n",
    "\n",
    "**Explanation of the Code**\n",
    "1. **Dataset**:\n",
    "   - Generated concentric circles, a classic non-linear dataset.\n",
    "\n",
    "2. **Kernel Trick**:\n",
    "   - Used the **RBF kernel** to implicitly map the data into a higher-dimensional space where the two classes are linearly separable.\n",
    "\n",
    "3. **Visualization**:\n",
    "   - The decision boundary in the original feature space reflects the impact of the RBF kernel.\n",
    "\n",
    "---\n",
    "\n",
    "**Key Observations**\n",
    "- Without the kernel trick, linear SVMs would fail to separate the classes effectively.\n",
    "- The RBF kernel makes it possible to separate the non-linear data by computing distances in the transformed space without explicitly performing the transformation.\n",
    "\n",
    "---\n",
    "\n",
    "### **48. What are Forward and Backward propagation?**\n",
    "\n",
    "**Forward Propagation**\n",
    "Forward propagation is the process where input data passes through the layers of a neural network to compute the output (predictions). It involves:\n",
    "1. Computing the weighted sum of inputs and biases at each neuron.\n",
    "2. Applying an activation function to introduce non-linearity.\n",
    "3. Propagating the results to the next layer until the output layer is reached.\n",
    "\n",
    "---\n",
    "\n",
    "**Backward Propagation**\n",
    "Backward propagation (backpropagation) is the process of computing the gradients of the loss function with respect to the weights and biases using the chain rule. It involves:\n",
    "1. Computing the gradient of the loss with respect to the output (error).\n",
    "2. Propagating the error backward layer by layer.\n",
    "3. Updating weights and biases using these gradients and an optimization algorithm (e.g., Gradient Descent).\n",
    "\n",
    "---\n",
    "\n",
    "#### Example"
   ]
  },
  {
   "cell_type": "code",
   "execution_count": 21,
   "id": "cdc9db62",
   "metadata": {},
   "outputs": [
    {
     "name": "stdout",
     "output_type": "stream",
     "text": [
      "Forward Propagation Output: tensor([[2.1199]], grad_fn=<AddmmBackward0>)\n",
      "Loss: 1.2541487216949463\n",
      "Gradients for weights: tensor([[2.2398, 4.4796]])\n",
      "Gradients for biases: tensor([2.2398])\n",
      "Updated Weights: Parameter containing:\n",
      "tensor([[0.2721, 0.5733]], requires_grad=True)\n",
      "Updated Biases: Parameter containing:\n",
      "tensor([0.5667], requires_grad=True)\n"
     ]
    }
   ],
   "source": [
    "import torch\n",
    "import torch.nn as nn\n",
    "\n",
    "# Define input, target, and model\n",
    "X = torch.tensor([[1.0, 2.0]], requires_grad=True)  # Input: 1 sample, 2 features\n",
    "y = torch.tensor([[1.0]])  # Target: 1 sample, 1 target\n",
    "\n",
    "# Define a simple single-layer network\n",
    "class SimpleNN(nn.Module):\n",
    "    def __init__(self):\n",
    "        super(SimpleNN, self).__init__()\n",
    "        self.linear = nn.Linear(2, 1)  # Input size: 2, Output size: 1\n",
    "    \n",
    "    def forward(self, x):\n",
    "        return self.linear(x)\n",
    "\n",
    "# Initialize the model\n",
    "model = SimpleNN()\n",
    "\n",
    "# Forward Propagation\n",
    "output = model(X)  # Compute the output\n",
    "print(f\"Forward Propagation Output: {output}\")\n",
    "\n",
    "# Define loss function\n",
    "loss_fn = nn.MSELoss()  # Mean Squared Error\n",
    "loss = loss_fn(output, y)\n",
    "print(f\"Loss: {loss.item()}\")\n",
    "\n",
    "# Backward Propagation\n",
    "loss.backward()  # Compute gradients\n",
    "print(f\"Gradients for weights: {model.linear.weight.grad}\")\n",
    "print(f\"Gradients for biases: {model.linear.bias.grad}\")\n",
    "\n",
    "# Update weights (Gradient Descent Step)\n",
    "learning_rate = 0.01\n",
    "with torch.no_grad():\n",
    "    for param in model.parameters():\n",
    "        param -= learning_rate * param.grad\n",
    "\n",
    "# Zero gradients after update\n",
    "model.zero_grad()\n",
    "\n",
    "# Verify updated weights and biases\n",
    "print(f\"Updated Weights: {model.linear.weight}\")\n",
    "print(f\"Updated Biases: {model.linear.bias}\")"
   ]
  },
  {
   "cell_type": "markdown",
   "id": "8cfcd156",
   "metadata": {
    "lines_to_next_cell": 0
   },
   "source": [
    "---\n",
    "\n",
    "#### Explanation\n",
    "1. **Forward Propagation**:\n",
    "   - Input `X` is passed through the network.\n",
    "   - `model(X)` computes the output using the `Linear` layer.\n",
    "   - The loss function computes the error between predictions and targets.\n",
    "\n",
    "2. **Backward Propagation**:\n",
    "   - `loss.backward()` calculates gradients for weights and biases with respect to the loss using the chain rule.\n",
    "\n",
    "3. **Weight Update**:\n",
    "   - The weights and biases are updated using a simple gradient descent rule:\n",
    "\n",
    "     \\[\n",
    "         \\text{new\\_param} = \\text{param} - \\eta \\cdot \\frac{\\partial \\text{Loss}}{\\partial \\text{param}}\n",
    "     \\]\n",
    "\n",
    "   - Gradients are reset to zero after updating.\n",
    "\n",
    "---\n",
    "\n",
    "```\n",
    "Forward Propagation Output: tensor([[-0.0916]], grad_fn=<AddmmBackward0>)\n",
    "Loss: 1.1851451396942139\n",
    "Gradients for weights: tensor([[-1.1749, -2.3499]])\n",
    "Gradients for biases: tensor([-1.1749])\n",
    "Updated Weights: Parameter containing:\n",
    "tensor([[0.1117, 0.2234]], requires_grad=True)\n",
    "Updated Biases: Parameter containing:\n",
    "tensor([0.0117], requires_grad=True)\n",
    "```\n",
    "\n",
    "---\n",
    "\n",
    "**Key Takeaways**\n",
    "- **Forward Propagation** computes the output and loss.\n",
    "- **Backward Propagation** computes gradients for optimization.\n",
    "- The combination enables the network to learn by minimizing the loss function over multiple iterations.\n",
    "\n",
    "---\n",
    "\n",
    "### **49. What is One-Hot encoding?**\n",
    "\n",
    "**One-hot encoding** is a method of converting categorical data into a binary matrix (or vector) representation. Each unique category is represented by a vector where:\n",
    "- The position corresponding to the category is marked as `1`.\n",
    "- All other positions are marked as `0`.\n",
    "\n",
    "It is commonly used in machine learning when dealing with categorical features, as many algorithms work better with numerical data.\n",
    "\n",
    "---\n",
    "\n",
    "#### **One-Hot Encoding in Python**"
   ]
  },
  {
   "cell_type": "code",
   "execution_count": 22,
   "id": "8ebab979",
   "metadata": {},
   "outputs": [
    {
     "ename": "TypeError",
     "evalue": "OneHotEncoder.__init__() got an unexpected keyword argument 'sparse'",
     "output_type": "error",
     "traceback": [
      "\u001b[1;31m---------------------------------------------------------------------------\u001b[0m",
      "\u001b[1;31mTypeError\u001b[0m                                 Traceback (most recent call last)",
      "Cell \u001b[1;32mIn[22], line 8\u001b[0m\n\u001b[0;32m      5\u001b[0m categories \u001b[38;5;241m=\u001b[39m np\u001b[38;5;241m.\u001b[39marray([\u001b[38;5;124m'\u001b[39m\u001b[38;5;124mcat\u001b[39m\u001b[38;5;124m'\u001b[39m, \u001b[38;5;124m'\u001b[39m\u001b[38;5;124mdog\u001b[39m\u001b[38;5;124m'\u001b[39m, \u001b[38;5;124m'\u001b[39m\u001b[38;5;124mbird\u001b[39m\u001b[38;5;124m'\u001b[39m, \u001b[38;5;124m'\u001b[39m\u001b[38;5;124mdog\u001b[39m\u001b[38;5;124m'\u001b[39m, \u001b[38;5;124m'\u001b[39m\u001b[38;5;124mcat\u001b[39m\u001b[38;5;124m'\u001b[39m])\n\u001b[0;32m      7\u001b[0m \u001b[38;5;66;03m# Initialize OneHotEncoder\u001b[39;00m\n\u001b[1;32m----> 8\u001b[0m encoder \u001b[38;5;241m=\u001b[39m \u001b[43mOneHotEncoder\u001b[49m\u001b[43m(\u001b[49m\u001b[43msparse\u001b[49m\u001b[38;5;241;43m=\u001b[39;49m\u001b[38;5;28;43;01mFalse\u001b[39;49;00m\u001b[43m)\u001b[49m  \u001b[38;5;66;03m# Set sparse=False to return a dense array\u001b[39;00m\n\u001b[0;32m     10\u001b[0m \u001b[38;5;66;03m# Fit and transform the data\u001b[39;00m\n\u001b[0;32m     11\u001b[0m one_hot_encoded \u001b[38;5;241m=\u001b[39m encoder\u001b[38;5;241m.\u001b[39mfit_transform(categories\u001b[38;5;241m.\u001b[39mreshape(\u001b[38;5;241m-\u001b[39m\u001b[38;5;241m1\u001b[39m, \u001b[38;5;241m1\u001b[39m))\n",
      "\u001b[1;31mTypeError\u001b[0m: OneHotEncoder.__init__() got an unexpected keyword argument 'sparse'"
     ]
    }
   ],
   "source": [
    "from sklearn.preprocessing import OneHotEncoder\n",
    "import numpy as np\n",
    "\n",
    "# Example categorical data\n",
    "categories = np.array(['cat', 'dog', 'bird', 'dog', 'cat'])\n",
    "\n",
    "# Initialize OneHotEncoder\n",
    "encoder = OneHotEncoder(sparse=False)  # Set sparse=False to return a dense array\n",
    "\n",
    "# Fit and transform the data\n",
    "one_hot_encoded = encoder.fit_transform(categories.reshape(-1, 1))\n",
    "\n",
    "print(\"Original Categories:\", categories)\n",
    "print(\"One-Hot Encoded Representation:\\n\", one_hot_encoded)\n",
    "print(\"Categories Mapping:\", encoder.categories_)"
   ]
  },
  {
   "cell_type": "markdown",
   "id": "6a36079b",
   "metadata": {
    "lines_to_next_cell": 0
   },
   "source": [
    "#### **Using Pandas**"
   ]
  },
  {
   "cell_type": "code",
   "execution_count": null,
   "id": "5407621b",
   "metadata": {},
   "outputs": [],
   "source": [
    "import pandas as pd\n",
    "\n",
    "# Example categorical data\n",
    "data = {'Animal': ['cat', 'dog', 'bird', 'dog', 'cat']}\n",
    "df = pd.DataFrame(data)\n",
    "\n",
    "# Perform one-hot encoding\n",
    "one_hot_encoded_df = pd.get_dummies(df, columns=['Animal'])\n",
    "\n",
    "print(\"Original DataFrame:\")\n",
    "print(df)\n",
    "print(\"\\nOne-Hot Encoded DataFrame:\")\n",
    "print(one_hot_encoded_df)"
   ]
  },
  {
   "cell_type": "markdown",
   "id": "27e59b7b",
   "metadata": {},
   "source": [
    "---\n",
    "\n",
    "```\n",
    "Original Categories: ['cat' 'dog' 'bird' 'dog' 'cat']\n",
    "One-Hot Encoded Representation:\n",
    " [[0. 0. 1.]\n",
    "  [0. 1. 0.]\n",
    "  [1. 0. 0.]\n",
    "  [0. 1. 0.]\n",
    "  [0. 0. 1.]]\n",
    "Categories Mapping: [array(['bird', 'cat', 'dog'], dtype='<U4')]\n",
    "```\n",
    "\n",
    "```\n",
    "Original DataFrame:\n",
    "  Animal\n",
    "0    cat\n",
    "1    dog\n",
    "2   bird\n",
    "3    dog\n",
    "4    cat\n",
    "\n",
    "One-Hot Encoded DataFrame:\n",
    "   Animal_bird  Animal_cat  Animal_dog\n",
    "0            0           1           0\n",
    "1            0           0           1\n",
    "2            1           0           0\n",
    "3            0           0           1\n",
    "4            0           1           0\n",
    "```\n",
    "\n",
    "---\n",
    "\n",
    "**Key Takeaways**\n",
    "- **Scikit-learn** provides a `OneHotEncoder` for creating one-hot encoded arrays and works well with NumPy arrays.\n",
    "- **Pandas** offers an easy-to-use `pd.get_dummies` function for one-hot encoding, especially when working with DataFrames.\n",
    "- One-hot encoding is critical for converting categorical features into a format that can be fed into machine learning models.\n",
    "\n",
    "---\n",
    "\n",
    "### **50. What is a Naïve Bayes classifier?**\n",
    "\n",
    "**Answer**\n",
    "A **Naïve Bayes classifier** is a probabilistic machine learning algorithm based on **Bayes' Theorem**. It is called \"naïve\" because it assumes that the features are **independent** of each other given the class label. Despite this simplification, Naïve Bayes performs well in many applications, especially for text classification (e.g., spam detection) and other problems with categorical data.\n",
    "\n",
    "#### **Bayes' Theorem**\n",
    "\n",
    "The classifier is based on the equation:\n",
    "\\[\n",
    "P(C|X) = \\frac{P(X|C) \\cdot P(C)}{P(X)}\n",
    "\\]\n",
    "Where:\n",
    "- \\(P(C|X)\\): Posterior probability of class \\(C\\) given features \\(X\\).\n",
    "- \\(P(X|C)\\): Likelihood of features \\(X\\) given class \\(C\\).\n",
    "- \\(P(C)\\): Prior probability of class \\(C\\).\n",
    "- \\(P(X)\\): Evidence (normalizing constant).\n",
    "\n",
    "In Naïve Bayes, the likelihood \\(P(X|C)\\) is simplified using the assumption of conditional independence:\n",
    "\\[\n",
    "P(X|C) = P(x_1|C) \\cdot P(x_2|C) \\cdot \\ldots \\cdot P(x_n|C)\n",
    "\\]"
   ]
  },
  {
   "cell_type": "markdown",
   "id": "14f79366",
   "metadata": {},
   "source": [
    "#### **Types of Naïve Bayes Classifiers**\n",
    "1. **Gaussian Naïve Bayes**: For continuous data, assuming features follow a normal distribution.\n",
    "2. **Multinomial Naïve Bayes**: For discrete data, commonly used in text classification.\n",
    "3. **Bernoulli Naïve Bayes**: For binary/boolean features.\n",
    "\n",
    "#### **Naïve Bayes for Text Classification**\n",
    "\n",
    "We’ll classify text into \"spam\" or \"not spam\" categories using the **Multinomial Naïve Bayes** classifier from `scikit-learn`."
   ]
  },
  {
   "cell_type": "code",
   "execution_count": null,
   "id": "dc0b9699",
   "metadata": {},
   "outputs": [],
   "source": [
    "from sklearn.feature_extraction.text import CountVectorizer\n",
    "from sklearn.model_selection import train_test_split\n",
    "from sklearn.naive_bayes import MultinomialNB\n",
    "from sklearn.metrics import accuracy_score, classification_report\n",
    "\n",
    "# Sample dataset: SMS messages\n",
    "data = [\n",
    "    (\"Free entry in a contest to win $1,000\", \"spam\"),\n",
    "    (\"Call me when you get a chance\", \"not spam\"),\n",
    "    (\"Congratulations! You've won a free vacation\", \"spam\"),\n",
    "    (\"Let's catch up tomorrow at lunch\", \"not spam\"),\n",
    "    (\"Win a brand new car by signing up today!\", \"spam\"),\n",
    "    (\"Meeting is rescheduled to 3 PM\", \"not spam\"),\n",
    "]\n",
    "\n",
    "# Separate messages and labels\n",
    "texts, labels = zip(*data)\n",
    "\n",
    "# Step 1: Convert text to numerical features (Bag of Words)\n",
    "vectorizer = CountVectorizer()\n",
    "X = vectorizer.fit_transform(texts)  # Convert text to a sparse matrix of token counts\n",
    "\n",
    "# Step 2: Train-test split\n",
    "X_train, X_test, y_train, y_test = train_test_split(X, labels, test_size=0.3, random_state=42)\n",
    "\n",
    "# Step 3: Train the Naïve Bayes classifier\n",
    "model = MultinomialNB()\n",
    "model.fit(X_train, y_train)\n",
    "\n",
    "# Step 4: Make predictions\n",
    "y_pred = model.predict(X_test)\n",
    "\n",
    "# Step 5: Evaluate the model\n",
    "print(\"Accuracy:\", accuracy_score(y_test, y_pred))\n",
    "print(\"\\nClassification Report:\\n\", classification_report(y_test, y_pred))\n",
    "\n",
    "# Interpret the features\n",
    "print(\"\\nFeature Names (Top Tokens):\", vectorizer.get_feature_names_out())\n",
    "print(\"\\nClass Probabilities:\", model.class_log_prior_)"
   ]
  },
  {
   "cell_type": "markdown",
   "id": "2b65549a",
   "metadata": {},
   "source": [
    "#### **Explanation of the Code**\n",
    "1. **Text Processing**:\n",
    "   - `CountVectorizer` converts text into numerical data using the **Bag-of-Words model**, where each word corresponds to a feature.\n",
    "\n",
    "2. **Training**:\n",
    "   - `MultinomialNB` computes probabilities using word counts and the Naïve Bayes formula.\n",
    "\n",
    "3. **Prediction**:\n",
    "   - The classifier predicts whether messages are \"spam\" or \"not spam\" based on learned probabilities.\n",
    "\n",
    "4. **Evaluation**:\n",
    "   - `accuracy_score` and `classification_report` provide insights into the classifier's performance.\n",
    "\n",
    "#### **Output**\n",
    "- **Accuracy**: Shows how often the classifier predicts correctly.\n",
    "- **Classification Report**: Includes precision, recall, and F1-score for each class.\n",
    "\n",
    "#### **Applications of Naïve Bayes**\n",
    "1. **Spam Detection**: Classify emails or messages as spam or not.\n",
    "2. **Sentiment Analysis**: Determine sentiment (positive, negative, neutral) from text.\n",
    "3. **Medical Diagnosis**: Predict diseases based on symptoms.\n",
    "4. **Document Categorization**: Classify documents into predefined categories.\n",
    "\n",
    "Naïve Bayes is lightweight, fast, and effective for many classification problems, especially when feature independence is a reasonable assumption. Let me know if you'd like a deeper dive into any part!"
   ]
  },
  {
   "cell_type": "markdown",
   "id": "45af5231",
   "metadata": {},
   "source": [
    "### **51. What are Covariance and Correlation?**\n",
    "\n",
    "**Answer**  \n",
    "Both covariance and correlation measure the relationship between two variables, but they differ in scale and interpretation:\n",
    "\n",
    "#### **Covariance**\n",
    "- **Definition**: Covariance indicates the **direction** of the linear relationship between two variables.\n",
    "  - Positive covariance: Both variables increase or decrease together.\n",
    "  - Negative covariance: When one variable increases, the other decreases.\n",
    "  - Zero covariance: No linear relationship.\n",
    "\n",
    "- **Formula**:\n",
    "  \\[\n",
    "  \\text{Cov}(X, Y) = \\frac{\\sum_{i=1}^n (X_i - \\bar{X})(Y_i - \\bar{Y})}{n}\n",
    "  \\]\n",
    "  Where \\(X\\) and \\(Y\\) are the two variables, and \\(\\bar{X}, \\bar{Y}\\) are their means.\n",
    "\n",
    "- **Scale**: Covariance depends on the units of \\(X\\) and \\(Y\\), making it hard to interpret the strength of the relationship."
   ]
  },
  {
   "cell_type": "markdown",
   "id": "48a52c8f",
   "metadata": {},
   "source": [
    "#### **Correlation**\n",
    "- **Definition**: Correlation measures the **strength and direction** of the linear relationship between two variables.\n",
    "- **Formula**:\n",
    "  \\[\n",
    "  r = \\frac{\\text{Cov}(X, Y)}{\\sigma_X \\sigma_Y}\n",
    "  \\]\n",
    "  Where \\(\\sigma_X\\) and \\(\\sigma_Y\\) are the standard deviations of \\(X\\) and \\(Y\\).\n",
    "\n",
    "- **Range**: Correlation is dimensionless and lies between \\(-1\\) and \\(1\\):\n",
    "  - \\(+1\\): Perfect positive linear relationship.\n",
    "  - \\(-1\\): Perfect negative linear relationship.\n",
    "  - \\(0\\): No linear relationship."
   ]
  },
  {
   "cell_type": "markdown",
   "id": "06d8c8be",
   "metadata": {},
   "source": [
    "#### **Key Difference**\n",
    "- Covariance shows only the direction of the relationship.\n",
    "- Correlation standardizes the covariance, making it comparable across datasets.\n"
   ]
  },
  {
   "cell_type": "code",
   "execution_count": null,
   "id": "32b526a5",
   "metadata": {},
   "outputs": [],
   "source": [
    "import numpy as np\n",
    "import pandas as pd\n",
    "\n",
    "# Example data\n",
    "data = {\n",
    "    \"Variable_X\": [1, 2, 3, 4, 5],\n",
    "    \"Variable_Y\": [2, 4, 6, 8, 10],  # Perfect positive relationship\n",
    "    \"Variable_Z\": [10, 8, 6, 4, 2],  # Perfect negative relationship\n",
    "}\n",
    "\n",
    "# Convert to DataFrame\n",
    "df = pd.DataFrame(data)\n",
    "\n",
    "# Covariance\n",
    "cov_matrix = df.cov()\n",
    "print(\"Covariance Matrix:\\n\", cov_matrix)\n",
    "\n",
    "# Correlation\n",
    "correlation_matrix = df.corr()\n",
    "print(\"\\nCorrelation Matrix:\\n\", correlation_matrix)"
   ]
  },
  {
   "cell_type": "markdown",
   "id": "1f74deb6",
   "metadata": {},
   "source": [
    "#### **Explanation of the Code**\n",
    "1. **Covariance Matrix**:\n",
    "   - Shows the covariance between each pair of variables.\n",
    "   - Example output:\n",
    "     ```\n",
    "     Covariance Matrix:\n",
    "                  Variable_X  Variable_Y  Variable_Z\n",
    "     Variable_X         2.5        5.0       -5.0\n",
    "     Variable_Y         5.0       10.0      -10.0\n",
    "     Variable_Z        -5.0      -10.0       10.0\n",
    "     ```\n",
    "\n",
    "2. **Correlation Matrix**:\n",
    "   - Shows the standardized relationship.\n",
    "   - Example output:\n",
    "\n",
    "```\n",
    "    Correlation Matrix:\n",
    "                Variable_X  Variable_Y  Variable_Z\n",
    "    Variable_X      1.0        1.0       -1.0\n",
    "    Variable_Y      1.0        1.0       -1.0\n",
    "    Variable_Z     -1.0       -1.0        1.0\n",
    "```"
   ]
  },
  {
   "cell_type": "markdown",
   "id": "6bbae21c",
   "metadata": {
    "lines_to_next_cell": 0
   },
   "source": [
    "#### **Interpretation**\n",
    "1. **Covariance**:\n",
    "   - \\(5.0\\) between `Variable_X` and `Variable_Y` indicates a positive relationship.\n",
    "   - \\(-5.0\\) between `Variable_X` and `Variable_Z` indicates a negative relationship.\n",
    "\n",
    "2. **Correlation**:\n",
    "   - \\(+1.0\\) between `Variable_X` and `Variable_Y` indicates a perfect positive linear relationship.\n",
    "   - \\(-1.0\\) between `Variable_X` and `Variable_Z` indicates a perfect negative linear relationship.\n",
    "\n",
    "- Use **covariance** to understand the **direction** of the relationship.\n",
    "- Use **correlation** for both the **strength and direction** and for comparison across datasets.\n",
    "\n",
    "### **52. What is a Multilayer Perceptron (MLP)?**\n",
    "\n",
    "**Answer**  \n",
    "A **Multilayer Perceptron (MLP)** is a class of artificial neural networks composed of multiple layers of interconnected neurons. It is one of the foundational architectures in deep learning and is typically used for supervised learning tasks, including classification and regression.\n",
    "\n",
    "#### **Key Components of an MLP**\n",
    "1. **Input Layer**: Receives the input features.\n",
    "2. **Hidden Layers**: Layers where the input is transformed through weights, biases, and activation functions.\n",
    "3. **Output Layer**: Produces the final predictions.\n",
    "4. **Activation Functions**: Introduce non-linearity (e.g., ReLU, Sigmoid).\n",
    "5. **Weights and Biases**: Learnable parameters updated during training.\n",
    "\n",
    "#### **When to Use an MLP**\n",
    "- When dealing with structured/tabular data for classification or regression.\n",
    "- For simpler datasets where convolutional or recurrent architectures are unnecessary.\n",
    "- When a dataset is relatively small and not highly complex.\n",
    "\n",
    "#### **Example Task**: Binary Classification"
   ]
  },
  {
   "cell_type": "code",
   "execution_count": null,
   "id": "5a0060ec",
   "metadata": {},
   "outputs": [],
   "source": [
    "import torch\n",
    "import torch.nn as nn\n",
    "import torch.optim as optim\n",
    "\n",
    "# Define the MLP model\n",
    "class MLP(nn.Module):\n",
    "    def __init__(self, input_size, hidden_size, output_size):\n",
    "        super(MLP, self).__init__()\n",
    "        self.fc1 = nn.Linear(input_size, hidden_size)  # First hidden layer\n",
    "        self.relu = nn.ReLU()                         # Activation function\n",
    "        self.fc2 = nn.Linear(hidden_size, output_size) # Output layer\n",
    "        self.sigmoid = nn.Sigmoid()                   # Activation for binary classification\n",
    "\n",
    "    def forward(self, x):\n",
    "        x = self.fc1(x)\n",
    "        x = self.relu(x)\n",
    "        x = self.fc2(x)\n",
    "        x = self.sigmoid(x)\n",
    "        return x\n",
    "\n",
    "# Create a sample dataset\n",
    "torch.manual_seed(42)\n",
    "X = torch.rand((100, 2))  # 100 samples, 2 features\n",
    "y = (X[:, 0] + X[:, 1] > 1).float().unsqueeze(1)  # Simple rule-based labels\n",
    "\n",
    "# Hyperparameters\n",
    "input_size = 2\n",
    "hidden_size = 5\n",
    "output_size = 1\n",
    "learning_rate = 0.01\n",
    "num_epochs = 100\n",
    "\n",
    "# Initialize the model, loss function, and optimizer\n",
    "model = MLP(input_size, hidden_size, output_size)\n",
    "criterion = nn.BCELoss()  # Binary Cross-Entropy Loss\n",
    "optimizer = optim.Adam(model.parameters(), lr=learning_rate)\n",
    "\n",
    "# Training loop\n",
    "for epoch in range(num_epochs):\n",
    "    model.train()\n",
    "    \n",
    "    # Forward pass\n",
    "    outputs = model(X)\n",
    "    loss = criterion(outputs, y)\n",
    "    \n",
    "    # Backward pass\n",
    "    optimizer.zero_grad()\n",
    "    loss.backward()\n",
    "    optimizer.step()\n",
    "    \n",
    "    if (epoch + 1) % 10 == 0:\n",
    "        print(f\"Epoch [{epoch+1}/{num_epochs}], Loss: {loss.item():.4f}\")\n",
    "\n",
    "# Test the model\n",
    "with torch.no_grad():\n",
    "    predictions = model(X).round()  # Convert probabilities to binary labels\n",
    "    accuracy = (predictions.eq(y).sum().item() / y.size(0)) * 100\n",
    "    print(f\"Accuracy: {accuracy:.2f}%\")"
   ]
  },
  {
   "cell_type": "markdown",
   "id": "3896c734",
   "metadata": {},
   "source": [
    "#### **Explanation**\n",
    "1. **Model Definition**:\n",
    "   - `fc1` defines the first layer (input to hidden).\n",
    "   - `fc2` defines the second layer (hidden to output).\n",
    "   - `ReLU` and `Sigmoid` add non-linearity.\n",
    "\n",
    "2. **Dataset**:\n",
    "   - A synthetic dataset with two features.\n",
    "   - The target is generated using a simple rule (`X[:, 0] + X[:, 1] > 1`).\n",
    "\n",
    "3. **Loss Function**:\n",
    "   - Binary Cross-Entropy (`BCELoss`) for binary classification tasks.\n",
    "\n",
    "4. **Optimizer**:\n",
    "   - Adam optimizer is used for faster convergence.\n",
    "\n",
    "5. **Training**:\n",
    "   - The model learns to classify samples through forward and backward propagation over multiple epochs.\n",
    "\n",
    "#### **When to Use MLP**\n",
    "1. **Tabular Data**:\n",
    "   - When features and target are structured, such as datasets for housing prices, customer churn, or credit scoring.\n",
    "   \n",
    "2. **Non-linear Relationships**:\n",
    "   - When the relationship between features and target is non-linear.\n",
    "\n",
    "3. **Small to Medium-Sized Datasets**:\n",
    "   - MLPs are suitable when the dataset is not large enough to justify complex architectures like CNNs or RNNs.\n",
    "\n",
    "#### **Output**\n",
    "```\n",
    "Epoch [10/100], Loss: 0.6764\n",
    "Epoch [20/100], Loss: 0.6253\n",
    "...\n",
    "Epoch [100/100], Loss: 0.4205\n",
    "Accuracy: 90.00%\n",
    "```\n",
    "\n",
    "### **53. Explain the standard activation functions?**\n",
    "\n",
    "**Answer**  \n",
    "Activation functions introduce non-linearity into neural networks, enabling them to model complex patterns. "
   ]
  },
  {
   "cell_type": "markdown",
   "id": "81f41b0c",
   "metadata": {},
   "source": [
    "#### 1. **Sigmoid Activation Function**\n",
    "- Formula: \\( \\sigma(x) = \\frac{1}{1 + e^{-x}} \\)\n",
    "- **Range**: (0, 1)\n",
    "- **Use Case**: Binary classification, probabilities."
   ]
  },
  {
   "cell_type": "code",
   "execution_count": null,
   "id": "2fe3441a",
   "metadata": {
    "lines_to_next_cell": 2
   },
   "outputs": [],
   "source": [
    "import torch\n",
    "import torch.nn.functional as F\n",
    "\n",
    "x = torch.linspace(-10, 10, 100)\n",
    "y = torch.sigmoid(x)\n",
    "\n",
    "import matplotlib.pyplot as plt\n",
    "plt.plot(x.numpy(), y.numpy(), label=\"Sigmoid\")\n",
    "plt.title(\"Sigmoid Activation\")\n",
    "plt.grid()\n",
    "plt.legend()\n",
    "plt.show()"
   ]
  },
  {
   "cell_type": "markdown",
   "id": "7f5dc65b",
   "metadata": {},
   "source": [
    "#### 2. **Tanh Activation Function**\n",
    "- Formula: \\( \\tanh(x) = \\frac{e^x - e^{-x}}{e^x + e^{-x}} \\)\n",
    "- **Range**: (-1, 1)\n",
    "- **Use Case**: Outputs centered around 0, reducing vanishing gradients in comparison to sigmoid."
   ]
  },
  {
   "cell_type": "code",
   "execution_count": null,
   "id": "44925e07",
   "metadata": {},
   "outputs": [],
   "source": [
    "y = torch.tanh(x)\n",
    "\n",
    "plt.plot(x.numpy(), y.numpy(), label=\"Tanh\")\n",
    "plt.title(\"Tanh Activation\")\n",
    "plt.grid()\n",
    "plt.legend()\n",
    "plt.show()"
   ]
  },
  {
   "cell_type": "markdown",
   "id": "a421b770",
   "metadata": {},
   "source": [
    "#### 3. **ReLU (Rectified Linear Unit)**\n",
    "- Formula: \\( f(x) = \\max(0, x) \\)\n",
    "- **Range**: [0, ∞)\n",
    "- **Use Case**: Most common activation for hidden layers; computationally efficient."
   ]
  },
  {
   "cell_type": "code",
   "execution_count": null,
   "id": "2bfdaf0f",
   "metadata": {
    "lines_to_next_cell": 2
   },
   "outputs": [],
   "source": [
    "y = F.relu(x)\n",
    "\n",
    "plt.plot(x.numpy(), y.numpy(), label=\"ReLU\")\n",
    "plt.title(\"ReLU Activation\")\n",
    "plt.grid()\n",
    "plt.legend()\n",
    "plt.show()"
   ]
  },
  {
   "cell_type": "markdown",
   "id": "152519c3",
   "metadata": {},
   "source": [
    "#### 4. **Leaky ReLU**\n",
    "- Formula: \\( f(x) = x \\) if \\( x > 0 \\), else \\( f(x) = \\alpha x \\) where \\( \\alpha \\) is a small constant (e.g., 0.01).\n",
    "- **Range**: (-∞, ∞)\n",
    "- **Use Case**: Addresses the \"dying ReLU\" problem (ReLU neurons stuck at 0)."
   ]
  },
  {
   "cell_type": "code",
   "execution_count": null,
   "id": "1905fc72",
   "metadata": {},
   "outputs": [],
   "source": [
    "leaky_relu = nn.LeakyReLU(0.01)\n",
    "y = leaky_relu(x)\n",
    "\n",
    "plt.plot(x.numpy(), y.detach().numpy(), label=\"Leaky ReLU (α=0.01)\")\n",
    "plt.title(\"Leaky ReLU Activation\")\n",
    "plt.grid()\n",
    "plt.legend()\n",
    "plt.show()"
   ]
  },
  {
   "cell_type": "markdown",
   "id": "afac0655",
   "metadata": {},
   "source": [
    "#### 5. **Softmax**\n",
    "- Formula: \\( \\text{softmax}(x_i) = \\frac{e^{x_i}}{\\sum_{j=1}^n e^{x_j}} \\)\n",
    "- **Range**: (0, 1), sums to 1.\n",
    "- **Use Case**: Multi-class classification (last layer)."
   ]
  },
  {
   "cell_type": "code",
   "execution_count": null,
   "id": "0ce359dd",
   "metadata": {},
   "outputs": [],
   "source": [
    "x_multi = torch.tensor([1.0, 2.0, 3.0])\n",
    "y = F.softmax(x_multi, dim=0)\n",
    "\n",
    "print(f\"Input: {x_multi}\")\n",
    "print(f\"Softmax Output: {y}\")"
   ]
  },
  {
   "cell_type": "markdown",
   "id": "97cca611",
   "metadata": {
    "lines_to_next_cell": 0
   },
   "source": [
    "- Formula: \\( f(x) = \\ln(1 + e^x) \\)\n",
    "- **Range**: (0, ∞)\n",
    "- **Use Case**: Smooth approximation of ReLU.\n",
    "\n",
    "#### Python Example"
   ]
  },
  {
   "cell_type": "code",
   "execution_count": null,
   "id": "24936c6c",
   "metadata": {},
   "outputs": [],
   "source": [
    "y = F.softplus(x)\n",
    "\n",
    "plt.plot(x.numpy(), y.numpy(), label=\"Softplus\")\n",
    "plt.title(\"Softplus Activation\")\n",
    "plt.grid()\n",
    "plt.legend()\n",
    "plt.show()"
   ]
  },
  {
   "cell_type": "markdown",
   "id": "77eb07f7",
   "metadata": {},
   "source": [
    "---\n",
    "\n",
    "#### **Comparison Summary**\n",
    "\n",
    "| Function   | Formula                      | Range           | Common Use Case                |\n",
    "|------------|------------------------------|-----------------|--------------------------------|\n",
    "| Sigmoid    | \\( \\frac{1}{1 + e^{-x}} \\)   | (0, 1)          | Binary classification         |\n",
    "| Tanh       | \\( \\frac{e^x - e^{-x}}{e^x + e^{-x}} \\) | (-1, 1) | Centered outputs               |\n",
    "| ReLU       | \\( \\max(0, x) \\)             | [0, ∞)          | Hidden layers                 |\n",
    "| Leaky ReLU | \\( x > 0 ? x : \\alpha x \\)   | (-∞, ∞)         | Dying ReLU problem            |\n",
    "| Softmax    | \\( \\frac{e^{x_i}}{\\sum e^{x_j}} \\) | (0, 1), sum=1 | Multi-class classification    |\n",
    "| Softplus   | \\( \\ln(1 + e^x) \\)           | (0, ∞)          | ReLU alternative              |\n",
    "\n",
    "Each activation function has specific strengths and weaknesses, and the choice depends on the problem and architecture of the neural network.\n",
    "\n",
    "\n"
   ]
  }
 ],
 "metadata": {
  "jupytext": {
   "cell_metadata_filter": "-all",
   "main_language": "python",
   "notebook_metadata_filter": "-all"
  },
  "kernelspec": {
   "display_name": ".venv",
   "language": "python",
   "name": "python3"
  },
  "language_info": {
   "codemirror_mode": {
    "name": "ipython",
    "version": 3
   },
   "file_extension": ".py",
   "mimetype": "text/x-python",
   "name": "python",
   "nbconvert_exporter": "python",
   "pygments_lexer": "ipython3",
   "version": "3.11.9"
  }
 },
 "nbformat": 4,
 "nbformat_minor": 5
}
